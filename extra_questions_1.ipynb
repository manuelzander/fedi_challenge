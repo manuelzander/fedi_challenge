{
 "cells": [
  {
   "cell_type": "markdown",
   "id": "983709a2-2f85-4e6a-9b48-80f662dae598",
   "metadata": {},
   "source": [
    "## Setup\n",
    "\n",
    "Note: not needed when reusable (database operations) code published on internal PyPI and pip installed into the env"
   ]
  },
  {
   "cell_type": "code",
   "execution_count": 1,
   "id": "71fc82aa",
   "metadata": {},
   "outputs": [],
   "source": [
    "import sys\n",
    "from pathlib import Path\n",
    "\n",
    "parent_path = str(Path.cwd())\n",
    "\n",
    "if parent_path not in sys.path:\n",
    "    sys.path.append(parent_path)\n",
    "\n",
    "from db_operations.db import SQLite"
   ]
  },
  {
   "cell_type": "code",
   "execution_count": 2,
   "id": "91fc3bbf-cdfb-42db-af8c-465268615805",
   "metadata": {},
   "outputs": [],
   "source": [
    "db_file = 'fedimint-observer.db'"
   ]
  },
  {
   "cell_type": "markdown",
   "id": "7f7e0cfb-e829-47a8-8686-820f7250e2ea",
   "metadata": {},
   "source": [
    "## 1. How much Bitcoin was pegged-in to all federations?"
   ]
  },
  {
   "cell_type": "code",
   "execution_count": 3,
   "id": "6e9c523f-3b70-415e-8b33-9de6c690edd6",
   "metadata": {},
   "outputs": [],
   "source": [
    "import pandas as pd\n",
    "\n",
    "with SQLite(db_file) as db:\n",
    "    df_transaction_inputs= pd.read_sql_query(\"SELECT * FROM transaction_inputs\", db.conn)"
   ]
  },
  {
   "cell_type": "code",
   "execution_count": 4,
   "id": "2b779d2d-cdda-426e-871a-39cdfce877b7",
   "metadata": {},
   "outputs": [],
   "source": [
    "import pandas as pd\n",
    "\n",
    "def calculate_total_btc_pegged(transaction_inputs_or_outputs_df):\n",
    "    \"\"\"\n",
    "    Calculate the total amount of Bitcoin pegged into or out each federation.\n",
    "\n",
    "    Parameters:\n",
    "        transaction_inputs_df (pd.DataFrame): DataFrame containing the transaction inputs or outputs.\n",
    "\n",
    "    Returns:\n",
    "        pd.DataFrame: A DataFrame with each federation and the corresponding total pegged-in or -out Bitcoin amount.\n",
    "    \"\"\"\n",
    "\n",
    "    # Filter for peg-in transactions (assuming 'kind' == 'wallet' indicates peg-ins)\n",
    "    filtered_df = transaction_inputs_or_outputs_df[transaction_inputs_or_outputs_df['kind'] == 'wallet']\n",
    "\n",
    "    # Calculate the total amount of Bitcoin pegged-in per federation\n",
    "    total_btc_per_federation = (\n",
    "        filtered_df.groupby('federation_id')['amount_msat'].sum() / 100000000000\n",
    "    ).reset_index()\n",
    "\n",
    "    # Rename columns for clarity\n",
    "    total_btc_per_federation.columns = ['federation_id', 'total_btc_pegged']\n",
    "\n",
    "    return total_btc_per_federation"
   ]
  },
  {
   "cell_type": "code",
   "execution_count": 5,
   "id": "b6ce7bbf-4a9f-4d1e-a96a-86773acd402f",
   "metadata": {},
   "outputs": [],
   "source": [
    "pegged_in = calculate_total_btc_pegged(df_transaction_inputs)"
   ]
  },
  {
   "cell_type": "code",
   "execution_count": 6,
   "id": "5a99e7a0-f5c0-4f5a-a309-61afcae66faa",
   "metadata": {},
   "outputs": [
    {
     "data": {
      "text/html": [
       "<div>\n",
       "<style scoped>\n",
       "    .dataframe tbody tr th:only-of-type {\n",
       "        vertical-align: middle;\n",
       "    }\n",
       "\n",
       "    .dataframe tbody tr th {\n",
       "        vertical-align: top;\n",
       "    }\n",
       "\n",
       "    .dataframe thead th {\n",
       "        text-align: right;\n",
       "    }\n",
       "</style>\n",
       "<table border=\"1\" class=\"dataframe\">\n",
       "  <thead>\n",
       "    <tr style=\"text-align: right;\">\n",
       "      <th></th>\n",
       "      <th>federation_id</th>\n",
       "      <th>total_btc_pegged</th>\n",
       "    </tr>\n",
       "  </thead>\n",
       "  <tbody>\n",
       "    <tr>\n",
       "      <th>0</th>\n",
       "      <td>b\"\\xb2\\x10h\\xc8O[\\x12\\xcaO\\xdf\\x93\\xf3\\xe4C\\xd...</td>\n",
       "      <td>8.423759</td>\n",
       "    </tr>\n",
       "  </tbody>\n",
       "</table>\n",
       "</div>"
      ],
      "text/plain": [
       "                                       federation_id  total_btc_pegged\n",
       "0  b\"\\xb2\\x10h\\xc8O[\\x12\\xcaO\\xdf\\x93\\xf3\\xe4C\\xd...          8.423759"
      ]
     },
     "execution_count": 6,
     "metadata": {},
     "output_type": "execute_result"
    }
   ],
   "source": [
    "pegged_in"
   ]
  },
  {
   "cell_type": "markdown",
   "id": "ac4a0cc7-6c5e-464c-bb01-f4e66b869870",
   "metadata": {},
   "source": [
    "## 2. How much Bitcoin was pegged-out from all federations?"
   ]
  },
  {
   "cell_type": "code",
   "execution_count": 7,
   "id": "4109db8d-5541-454d-af55-8ac2dd4ba350",
   "metadata": {},
   "outputs": [],
   "source": [
    "with SQLite(db_file) as db:\n",
    "    df_transaction_outputs= pd.read_sql_query(\"SELECT * FROM transaction_outputs\", db.conn)"
   ]
  },
  {
   "cell_type": "code",
   "execution_count": 8,
   "id": "de37ce49-5c14-42a9-8728-1c55b514e86b",
   "metadata": {},
   "outputs": [],
   "source": [
    "pegged_out = calculate_total_btc_pegged(df_transaction_outputs)"
   ]
  },
  {
   "cell_type": "code",
   "execution_count": 9,
   "id": "86f56395-b76d-448e-ba58-69287e63011f",
   "metadata": {},
   "outputs": [
    {
     "data": {
      "text/html": [
       "<div>\n",
       "<style scoped>\n",
       "    .dataframe tbody tr th:only-of-type {\n",
       "        vertical-align: middle;\n",
       "    }\n",
       "\n",
       "    .dataframe tbody tr th {\n",
       "        vertical-align: top;\n",
       "    }\n",
       "\n",
       "    .dataframe thead th {\n",
       "        text-align: right;\n",
       "    }\n",
       "</style>\n",
       "<table border=\"1\" class=\"dataframe\">\n",
       "  <thead>\n",
       "    <tr style=\"text-align: right;\">\n",
       "      <th></th>\n",
       "      <th>federation_id</th>\n",
       "      <th>total_btc_pegged</th>\n",
       "    </tr>\n",
       "  </thead>\n",
       "  <tbody>\n",
       "    <tr>\n",
       "      <th>0</th>\n",
       "      <td>b\"\\xb2\\x10h\\xc8O[\\x12\\xcaO\\xdf\\x93\\xf3\\xe4C\\xd...</td>\n",
       "      <td>7.81929</td>\n",
       "    </tr>\n",
       "  </tbody>\n",
       "</table>\n",
       "</div>"
      ],
      "text/plain": [
       "                                       federation_id  total_btc_pegged\n",
       "0  b\"\\xb2\\x10h\\xc8O[\\x12\\xcaO\\xdf\\x93\\xf3\\xe4C\\xd...           7.81929"
      ]
     },
     "execution_count": 9,
     "metadata": {},
     "output_type": "execute_result"
    }
   ],
   "source": [
    "pegged_out"
   ]
  },
  {
   "cell_type": "markdown",
   "id": "c78c2b41-7a97-4cdc-85aa-721f12116f8a",
   "metadata": {},
   "source": [
    "## 3. What is the current on-chain balance of all federation?"
   ]
  },
  {
   "cell_type": "code",
   "execution_count": 10,
   "id": "cbe0b318-014e-44c7-8574-5a02daea298a",
   "metadata": {},
   "outputs": [
    {
     "data": {
      "text/html": [
       "<div>\n",
       "<style scoped>\n",
       "    .dataframe tbody tr th:only-of-type {\n",
       "        vertical-align: middle;\n",
       "    }\n",
       "\n",
       "    .dataframe tbody tr th {\n",
       "        vertical-align: top;\n",
       "    }\n",
       "\n",
       "    .dataframe thead th {\n",
       "        text-align: right;\n",
       "    }\n",
       "</style>\n",
       "<table border=\"1\" class=\"dataframe\">\n",
       "  <thead>\n",
       "    <tr style=\"text-align: right;\">\n",
       "      <th></th>\n",
       "      <th>federation_id</th>\n",
       "      <th>total_btc_difference</th>\n",
       "    </tr>\n",
       "  </thead>\n",
       "  <tbody>\n",
       "    <tr>\n",
       "      <th>0</th>\n",
       "      <td>b\"\\xb2\\x10h\\xc8O[\\x12\\xcaO\\xdf\\x93\\xf3\\xe4C\\xd...</td>\n",
       "      <td>0.604469</td>\n",
       "    </tr>\n",
       "  </tbody>\n",
       "</table>\n",
       "</div>"
      ],
      "text/plain": [
       "                                       federation_id  total_btc_difference\n",
       "0  b\"\\xb2\\x10h\\xc8O[\\x12\\xcaO\\xdf\\x93\\xf3\\xe4C\\xd...              0.604469"
      ]
     },
     "execution_count": 10,
     "metadata": {},
     "output_type": "execute_result"
    }
   ],
   "source": [
    "def subtract_btc_pegged(df1, df2):\n",
    "    # Merge the two DataFrames on `federation_id`\n",
    "    merged_df = pd.merge(df1, df2, on='federation_id', suffixes=('_df1', '_df2'))\n",
    "\n",
    "    # Subtract the `total_btc_pegged_in` columns\n",
    "    merged_df['total_btc_difference'] = merged_df['total_btc_pegged_df1'] - merged_df['total_btc_pegged_df2']\n",
    "\n",
    "    # Select relevant columns to return\n",
    "    result_df = merged_df[['federation_id', 'total_btc_difference']]\n",
    "\n",
    "    return result_df\n",
    "\n",
    "result_df = subtract_btc_pegged(pegged_in, pegged_out)\n",
    "result_df"
   ]
  },
  {
   "cell_type": "markdown",
   "id": "39bb564d-8d5d-4472-815b-721bc67f5497",
   "metadata": {},
   "source": [
    "## And Freedom One?"
   ]
  },
  {
   "cell_type": "code",
   "execution_count": 11,
   "id": "2d5a5279-039f-4f88-b187-3382acc48673",
   "metadata": {},
   "outputs": [
    {
     "data": {
      "text/html": [
       "<div>\n",
       "<style scoped>\n",
       "    .dataframe tbody tr th:only-of-type {\n",
       "        vertical-align: middle;\n",
       "    }\n",
       "\n",
       "    .dataframe tbody tr th {\n",
       "        vertical-align: top;\n",
       "    }\n",
       "\n",
       "    .dataframe thead th {\n",
       "        text-align: right;\n",
       "    }\n",
       "</style>\n",
       "<table border=\"1\" class=\"dataframe\">\n",
       "  <thead>\n",
       "    <tr style=\"text-align: right;\">\n",
       "      <th></th>\n",
       "      <th>federation_id</th>\n",
       "      <th>config</th>\n",
       "    </tr>\n",
       "  </thead>\n",
       "  <tbody>\n",
       "  </tbody>\n",
       "</table>\n",
       "</div>"
      ],
      "text/plain": [
       "Empty DataFrame\n",
       "Columns: [federation_id, config]\n",
       "Index: []"
      ]
     },
     "execution_count": 11,
     "metadata": {},
     "output_type": "execute_result"
    }
   ],
   "source": [
    "# SQL query to find the federation with the name \"Freedom One\"\n",
    "query = \"\"\"\n",
    "SELECT federation_id, config\n",
    "FROM federations\n",
    "WHERE config LIKE '%Freedom One%'\n",
    "\"\"\"\n",
    "\n",
    "with SQLite(db_file) as db:\n",
    "    df = pd.read_sql_query(query, db.conn)\n",
    "\n",
    "df"
   ]
  },
  {
   "cell_type": "code",
   "execution_count": 12,
   "id": "9e26381b-d4aa-455b-8a1a-61d8fabae61d",
   "metadata": {},
   "outputs": [
    {
     "ename": "KeyError",
     "evalue": "0",
     "output_type": "error",
     "traceback": [
      "\u001b[0;31m---------------------------------------------------------------------------\u001b[0m",
      "\u001b[0;31mValueError\u001b[0m                                Traceback (most recent call last)",
      "File \u001b[0;32m~/dev/fedi_challenge/env/lib/python3.12/site-packages/pandas/core/indexes/range.py:413\u001b[0m, in \u001b[0;36mRangeIndex.get_loc\u001b[0;34m(self, key)\u001b[0m\n\u001b[1;32m    412\u001b[0m \u001b[38;5;28;01mtry\u001b[39;00m:\n\u001b[0;32m--> 413\u001b[0m     \u001b[38;5;28;01mreturn\u001b[39;00m \u001b[38;5;28;43mself\u001b[39;49m\u001b[38;5;241;43m.\u001b[39;49m\u001b[43m_range\u001b[49m\u001b[38;5;241;43m.\u001b[39;49m\u001b[43mindex\u001b[49m\u001b[43m(\u001b[49m\u001b[43mnew_key\u001b[49m\u001b[43m)\u001b[49m\n\u001b[1;32m    414\u001b[0m \u001b[38;5;28;01mexcept\u001b[39;00m \u001b[38;5;167;01mValueError\u001b[39;00m \u001b[38;5;28;01mas\u001b[39;00m err:\n",
      "\u001b[0;31mValueError\u001b[0m: 0 is not in range",
      "\nThe above exception was the direct cause of the following exception:\n",
      "\u001b[0;31mKeyError\u001b[0m                                  Traceback (most recent call last)",
      "Cell \u001b[0;32mIn[12], line 1\u001b[0m\n\u001b[0;32m----> 1\u001b[0m target_federation_id \u001b[38;5;241m=\u001b[39m \u001b[43mdf\u001b[49m\u001b[43m[\u001b[49m\u001b[38;5;124;43m'\u001b[39;49m\u001b[38;5;124;43mfederation_id\u001b[39;49m\u001b[38;5;124;43m'\u001b[39;49m\u001b[43m]\u001b[49m\u001b[43m[\u001b[49m\u001b[38;5;241;43m0\u001b[39;49m\u001b[43m]\u001b[49m\n\u001b[1;32m      3\u001b[0m result_df \u001b[38;5;241m=\u001b[39m result_df[result_df[\u001b[38;5;124m'\u001b[39m\u001b[38;5;124mfederation_id\u001b[39m\u001b[38;5;124m'\u001b[39m] \u001b[38;5;241m==\u001b[39m target_federation_id]\n\u001b[1;32m      4\u001b[0m result_df\n",
      "File \u001b[0;32m~/dev/fedi_challenge/env/lib/python3.12/site-packages/pandas/core/series.py:1121\u001b[0m, in \u001b[0;36mSeries.__getitem__\u001b[0;34m(self, key)\u001b[0m\n\u001b[1;32m   1118\u001b[0m     \u001b[38;5;28;01mreturn\u001b[39;00m \u001b[38;5;28mself\u001b[39m\u001b[38;5;241m.\u001b[39m_values[key]\n\u001b[1;32m   1120\u001b[0m \u001b[38;5;28;01melif\u001b[39;00m key_is_scalar:\n\u001b[0;32m-> 1121\u001b[0m     \u001b[38;5;28;01mreturn\u001b[39;00m \u001b[38;5;28;43mself\u001b[39;49m\u001b[38;5;241;43m.\u001b[39;49m\u001b[43m_get_value\u001b[49m\u001b[43m(\u001b[49m\u001b[43mkey\u001b[49m\u001b[43m)\u001b[49m\n\u001b[1;32m   1123\u001b[0m \u001b[38;5;66;03m# Convert generator to list before going through hashable part\u001b[39;00m\n\u001b[1;32m   1124\u001b[0m \u001b[38;5;66;03m# (We will iterate through the generator there to check for slices)\u001b[39;00m\n\u001b[1;32m   1125\u001b[0m \u001b[38;5;28;01mif\u001b[39;00m is_iterator(key):\n",
      "File \u001b[0;32m~/dev/fedi_challenge/env/lib/python3.12/site-packages/pandas/core/series.py:1237\u001b[0m, in \u001b[0;36mSeries._get_value\u001b[0;34m(self, label, takeable)\u001b[0m\n\u001b[1;32m   1234\u001b[0m     \u001b[38;5;28;01mreturn\u001b[39;00m \u001b[38;5;28mself\u001b[39m\u001b[38;5;241m.\u001b[39m_values[label]\n\u001b[1;32m   1236\u001b[0m \u001b[38;5;66;03m# Similar to Index.get_value, but we do not fall back to positional\u001b[39;00m\n\u001b[0;32m-> 1237\u001b[0m loc \u001b[38;5;241m=\u001b[39m \u001b[38;5;28;43mself\u001b[39;49m\u001b[38;5;241;43m.\u001b[39;49m\u001b[43mindex\u001b[49m\u001b[38;5;241;43m.\u001b[39;49m\u001b[43mget_loc\u001b[49m\u001b[43m(\u001b[49m\u001b[43mlabel\u001b[49m\u001b[43m)\u001b[49m\n\u001b[1;32m   1239\u001b[0m \u001b[38;5;28;01mif\u001b[39;00m is_integer(loc):\n\u001b[1;32m   1240\u001b[0m     \u001b[38;5;28;01mreturn\u001b[39;00m \u001b[38;5;28mself\u001b[39m\u001b[38;5;241m.\u001b[39m_values[loc]\n",
      "File \u001b[0;32m~/dev/fedi_challenge/env/lib/python3.12/site-packages/pandas/core/indexes/range.py:415\u001b[0m, in \u001b[0;36mRangeIndex.get_loc\u001b[0;34m(self, key)\u001b[0m\n\u001b[1;32m    413\u001b[0m         \u001b[38;5;28;01mreturn\u001b[39;00m \u001b[38;5;28mself\u001b[39m\u001b[38;5;241m.\u001b[39m_range\u001b[38;5;241m.\u001b[39mindex(new_key)\n\u001b[1;32m    414\u001b[0m     \u001b[38;5;28;01mexcept\u001b[39;00m \u001b[38;5;167;01mValueError\u001b[39;00m \u001b[38;5;28;01mas\u001b[39;00m err:\n\u001b[0;32m--> 415\u001b[0m         \u001b[38;5;28;01mraise\u001b[39;00m \u001b[38;5;167;01mKeyError\u001b[39;00m(key) \u001b[38;5;28;01mfrom\u001b[39;00m \u001b[38;5;21;01merr\u001b[39;00m\n\u001b[1;32m    416\u001b[0m \u001b[38;5;28;01mif\u001b[39;00m \u001b[38;5;28misinstance\u001b[39m(key, Hashable):\n\u001b[1;32m    417\u001b[0m     \u001b[38;5;28;01mraise\u001b[39;00m \u001b[38;5;167;01mKeyError\u001b[39;00m(key)\n",
      "\u001b[0;31mKeyError\u001b[0m: 0"
     ]
    }
   ],
   "source": [
    "target_federation_id = df['federation_id'][0]\n",
    "\n",
    "result_df = result_df[result_df['federation_id'] == target_federation_id]\n",
    "result_df"
   ]
  },
  {
   "cell_type": "code",
   "execution_count": null,
   "id": "28ee3517-00db-443d-8184-18941771c72f",
   "metadata": {},
   "outputs": [],
   "source": []
  },
  {
   "cell_type": "code",
   "execution_count": null,
   "id": "91dae1bf-29c9-4d4d-a636-4880d15d6296",
   "metadata": {},
   "outputs": [],
   "source": []
  }
 ],
 "metadata": {
  "kernelspec": {
   "display_name": "env",
   "language": "python",
   "name": "env"
  },
  "language_info": {
   "codemirror_mode": {
    "name": "ipython",
    "version": 3
   },
   "file_extension": ".py",
   "mimetype": "text/x-python",
   "name": "python",
   "nbconvert_exporter": "python",
   "pygments_lexer": "ipython3",
   "version": "3.12.4"
  }
 },
 "nbformat": 4,
 "nbformat_minor": 5
}
