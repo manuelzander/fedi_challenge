{
 "cells": [
  {
   "cell_type": "markdown",
   "id": "983709a2-2f85-4e6a-9b48-80f662dae598",
   "metadata": {},
   "source": [
    "## Setup\n",
    "\n",
    "Note: not needed when reusable (database operations) code published on internal PyPI and pip installed into the env"
   ]
  },
  {
   "cell_type": "code",
   "execution_count": 1,
   "id": "71fc82aa",
   "metadata": {},
   "outputs": [],
   "source": [
    "import sys\n",
    "from pathlib import Path\n",
    "\n",
    "parent_path = str(Path.cwd())\n",
    "\n",
    "if parent_path not in sys.path:\n",
    "    sys.path.append(parent_path)\n",
    "\n",
    "from db_operations.db import SQLite"
   ]
  },
  {
   "cell_type": "markdown",
   "id": "5ca81acc-202d-48dd-9252-556284108855",
   "metadata": {},
   "source": [
    "## First of all, what tables and schemas can we find in the database?\n",
    "\n",
    "also found here: https://github.com/elsirion/fedimint-observer/blob/master/schema/v0.sql\n",
    "\n",
    "furthermore, data structures, for example federation config, can be found in https://github.com/fedimint/fedimint/tree/master/fedimint-core:\n",
    "\n",
    "https://github.com/fedimint/fedimint/blob/374e2942bfcf67e9901cd410e7b5d3faeeae2c3b/fedimint-core/src/config.rs#L200"
   ]
  },
  {
   "cell_type": "code",
   "execution_count": 2,
   "id": "25bab120-fb55-4f7a-9038-f613345ea04b",
   "metadata": {},
   "outputs": [
    {
     "name": "stdout",
     "output_type": "stream",
     "text": [
      "Tables:\n",
      "federations\n",
      "sessions\n",
      "transactions\n",
      "transaction_inputs\n",
      "transaction_outputs\n",
      "ln_contracts\n",
      "block_times\n",
      "block_height_votes\n",
      "\n",
      "Schemas:\n",
      "\n",
      "Table: federations\n",
      "\tColumn: federation_id, Type: BLOB, Nullable: NOT NULL, Default: None, Primary Key: YES\n",
      "\tColumn: config, Type: BLOB, Nullable: NOT NULL, Default: None, Primary Key: NO\n",
      "\n",
      "Table: sessions\n",
      "\tColumn: federation_id, Type: BLOB, Nullable: NOT NULL, Default: None, Primary Key: YES\n",
      "\tColumn: session_index, Type: INTEGER, Nullable: NOT NULL, Default: None, Primary Key: YES\n",
      "\tColumn: session, Type: BLOB, Nullable: NOT NULL, Default: None, Primary Key: NO\n",
      "\n",
      "Table: transactions\n",
      "\tColumn: txid, Type: BLOB, Nullable: NOT NULL, Default: None, Primary Key: YES\n",
      "\tColumn: federation_id, Type: BLOB, Nullable: NOT NULL, Default: None, Primary Key: YES\n",
      "\tColumn: session_index, Type: INTEGER, Nullable: NOT NULL, Default: None, Primary Key: NO\n",
      "\tColumn: item_index, Type: INTEGER, Nullable: NOT NULL, Default: None, Primary Key: NO\n",
      "\tColumn: data, Type: BLOB, Nullable: NOT NULL, Default: None, Primary Key: NO\n",
      "\n",
      "Table: transaction_inputs\n",
      "\tColumn: federation_id, Type: BLOB, Nullable: NOT NULL, Default: None, Primary Key: YES\n",
      "\tColumn: txid, Type: BLOB, Nullable: NOT NULL, Default: None, Primary Key: YES\n",
      "\tColumn: in_index, Type: INTEGER, Nullable: NOT NULL, Default: None, Primary Key: YES\n",
      "\tColumn: kind, Type: TEXT, Nullable: NOT NULL, Default: None, Primary Key: NO\n",
      "\tColumn: ln_contract_id, Type: BLOB, Nullable: NULL, Default: None, Primary Key: NO\n",
      "\tColumn: amount_msat, Type: INTEGER, Nullable: NULL, Default: None, Primary Key: NO\n",
      "\n",
      "Table: transaction_outputs\n",
      "\tColumn: federation_id, Type: BLOB, Nullable: NOT NULL, Default: None, Primary Key: YES\n",
      "\tColumn: txid, Type: BLOB, Nullable: NOT NULL, Default: None, Primary Key: YES\n",
      "\tColumn: out_index, Type: INTEGER, Nullable: NOT NULL, Default: None, Primary Key: YES\n",
      "\tColumn: kind, Type: TEXT, Nullable: NOT NULL, Default: None, Primary Key: NO\n",
      "\tColumn: ln_contract_interaction_kind, Type: TEXT, Nullable: NULL, Default: None, Primary Key: NO\n",
      "\tColumn: ln_contract_id, Type: BLOB, Nullable: NULL, Default: None, Primary Key: NO\n",
      "\tColumn: amount_msat, Type: INTEGER, Nullable: NULL, Default: None, Primary Key: NO\n",
      "\n",
      "Table: ln_contracts\n",
      "\tColumn: federation_id, Type: BLOB, Nullable: NOT NULL, Default: None, Primary Key: YES\n",
      "\tColumn: contract_id, Type: BLOB, Nullable: NOT NULL, Default: None, Primary Key: YES\n",
      "\tColumn: type, Type: TEXT, Nullable: NOT NULL, Default: None, Primary Key: NO\n",
      "\tColumn: payment_hash, Type: BLOB, Nullable: NOT NULL, Default: None, Primary Key: NO\n",
      "\n",
      "Table: block_times\n",
      "\tColumn: block_height, Type: INTEGER, Nullable: NULL, Default: None, Primary Key: YES\n",
      "\tColumn: timestamp, Type: INTEGER, Nullable: NOT NULL, Default: None, Primary Key: NO\n",
      "\n",
      "Table: block_height_votes\n",
      "\tColumn: federation_id, Type: BLOB, Nullable: NOT NULL, Default: None, Primary Key: YES\n",
      "\tColumn: session_index, Type: INTEGER, Nullable: NOT NULL, Default: None, Primary Key: YES\n",
      "\tColumn: item_index, Type: INTEGER, Nullable: NOT NULL, Default: None, Primary Key: YES\n",
      "\tColumn: proposer, Type: INTEGER, Nullable: NOT NULL, Default: None, Primary Key: NO\n",
      "\tColumn: height_vote, Type: INTEGER, Nullable: NOT NULL, Default: None, Primary Key: NO\n"
     ]
    }
   ],
   "source": [
    "db_file = 'fedimint-observer.db'\n",
    "\n",
    "with SQLite(db_file) as db:\n",
    "    # Get a list of all tables\n",
    "    tables = db.execute(\"SELECT name FROM sqlite_master WHERE type='table';\")\n",
    "\n",
    "    # Print table names\n",
    "    print(\"Tables:\")\n",
    "    for table in tables:\n",
    "      print(table[0])\n",
    "\n",
    "    # Get schema for each table\n",
    "    print(\"\\nSchemas:\")\n",
    "    for table in tables:\n",
    "      table_name = table[0]\n",
    "      columns = db.execute(f\"PRAGMA table_info('{table_name}');\")\n",
    "\n",
    "      print(f\"\\nTable: {table_name}\")\n",
    "      for column in columns:\n",
    "        # print(column)\n",
    "        column_id, column_name, column_type, not_null, default_value, pk = column\n",
    "        print(f\"\\tColumn: {column_name}, Type: {column_type}, Nullable: {'NOT NULL' if not_null else 'NULL'}, Default: {default_value}, Primary Key: {'YES' if pk else 'NO'}\")"
   ]
  },
  {
   "cell_type": "markdown",
   "id": "7f7e0cfb-e829-47a8-8686-820f7250e2ea",
   "metadata": {},
   "source": [
    "## 1. How much Bitcoin was pegged-in to this federation?"
   ]
  },
  {
   "cell_type": "code",
   "execution_count": 3,
   "id": "70dde76d-a353-4b6e-a4ce-002a49071c88",
   "metadata": {},
   "outputs": [],
   "source": [
    "import pandas as pd\n",
    "\n",
    "with SQLite(db_file) as db:\n",
    "    df_federations = pd.read_sql_query(\"SELECT federation_id, config FROM federations\", db.conn)"
   ]
  },
  {
   "cell_type": "code",
   "execution_count": 4,
   "id": "cb257606-3c28-4824-b3d9-d35d41ce7133",
   "metadata": {},
   "outputs": [
    {
     "data": {
      "text/plain": [
       "True"
      ]
     },
     "execution_count": 4,
     "metadata": {},
     "output_type": "execute_result"
    }
   ],
   "source": [
    "# Confirm that this database only cotains data for one federation, should be \"Bitcoin Principles\"\n",
    "df_federations['federation_id'].nunique() == 1"
   ]
  },
  {
   "cell_type": "code",
   "execution_count": 5,
   "id": "183bde18-b50f-41e8-8ad8-cbddd6da89ef",
   "metadata": {},
   "outputs": [],
   "source": [
    "unique_value = df_federations['federation_id'].unique()[0]"
   ]
  },
  {
   "cell_type": "code",
   "execution_count": 6,
   "id": "6e9c523f-3b70-415e-8b33-9de6c690edd6",
   "metadata": {},
   "outputs": [],
   "source": [
    "with SQLite(db_file) as db:\n",
    "    df_transaction_inputs= pd.read_sql_query(\"SELECT * FROM transaction_inputs\", db.conn)"
   ]
  },
  {
   "cell_type": "code",
   "execution_count": 7,
   "id": "b134209d-89eb-4efb-ae20-f6772cd0b088",
   "metadata": {},
   "outputs": [
    {
     "data": {
      "text/html": [
       "<div>\n",
       "<style scoped>\n",
       "    .dataframe tbody tr th:only-of-type {\n",
       "        vertical-align: middle;\n",
       "    }\n",
       "\n",
       "    .dataframe tbody tr th {\n",
       "        vertical-align: top;\n",
       "    }\n",
       "\n",
       "    .dataframe thead th {\n",
       "        text-align: right;\n",
       "    }\n",
       "</style>\n",
       "<table border=\"1\" class=\"dataframe\">\n",
       "  <thead>\n",
       "    <tr style=\"text-align: right;\">\n",
       "      <th></th>\n",
       "      <th>federation_id</th>\n",
       "      <th>txid</th>\n",
       "      <th>in_index</th>\n",
       "      <th>kind</th>\n",
       "      <th>ln_contract_id</th>\n",
       "      <th>amount_msat</th>\n",
       "    </tr>\n",
       "  </thead>\n",
       "  <tbody>\n",
       "    <tr>\n",
       "      <th>0</th>\n",
       "      <td>b\"\\xb2\\x10h\\xc8O[\\x12\\xcaO\\xdf\\x93\\xf3\\xe4C\\xd...</td>\n",
       "      <td>b'\\xfc\\xea9rc\\xa2&gt;\\xe2\\x92\\xdc\\x06\\xa7\\x03;\\xe...</td>\n",
       "      <td>0</td>\n",
       "      <td>wallet</td>\n",
       "      <td>None</td>\n",
       "      <td>1.000000e+10</td>\n",
       "    </tr>\n",
       "    <tr>\n",
       "      <th>1</th>\n",
       "      <td>b\"\\xb2\\x10h\\xc8O[\\x12\\xcaO\\xdf\\x93\\xf3\\xe4C\\xd...</td>\n",
       "      <td>b'%4\\xe6\\xb166\\xaaE\\xb0\\x10\\xcdk\\xda6\\xf3\\xf2{...</td>\n",
       "      <td>0</td>\n",
       "      <td>mint</td>\n",
       "      <td>None</td>\n",
       "      <td>1.280000e+02</td>\n",
       "    </tr>\n",
       "    <tr>\n",
       "      <th>2</th>\n",
       "      <td>b\"\\xb2\\x10h\\xc8O[\\x12\\xcaO\\xdf\\x93\\xf3\\xe4C\\xd...</td>\n",
       "      <td>b'%4\\xe6\\xb166\\xaaE\\xb0\\x10\\xcdk\\xda6\\xf3\\xf2{...</td>\n",
       "      <td>1</td>\n",
       "      <td>mint</td>\n",
       "      <td>None</td>\n",
       "      <td>5.120000e+02</td>\n",
       "    </tr>\n",
       "    <tr>\n",
       "      <th>3</th>\n",
       "      <td>b\"\\xb2\\x10h\\xc8O[\\x12\\xcaO\\xdf\\x93\\xf3\\xe4C\\xd...</td>\n",
       "      <td>b'%4\\xe6\\xb166\\xaaE\\xb0\\x10\\xcdk\\xda6\\xf3\\xf2{...</td>\n",
       "      <td>2</td>\n",
       "      <td>mint</td>\n",
       "      <td>None</td>\n",
       "      <td>1.024000e+03</td>\n",
       "    </tr>\n",
       "    <tr>\n",
       "      <th>4</th>\n",
       "      <td>b\"\\xb2\\x10h\\xc8O[\\x12\\xcaO\\xdf\\x93\\xf3\\xe4C\\xd...</td>\n",
       "      <td>b'%4\\xe6\\xb166\\xaaE\\xb0\\x10\\xcdk\\xda6\\xf3\\xf2{...</td>\n",
       "      <td>3</td>\n",
       "      <td>mint</td>\n",
       "      <td>None</td>\n",
       "      <td>4.096000e+03</td>\n",
       "    </tr>\n",
       "    <tr>\n",
       "      <th>...</th>\n",
       "      <td>...</td>\n",
       "      <td>...</td>\n",
       "      <td>...</td>\n",
       "      <td>...</td>\n",
       "      <td>...</td>\n",
       "      <td>...</td>\n",
       "    </tr>\n",
       "    <tr>\n",
       "      <th>692237</th>\n",
       "      <td>b\"\\xb2\\x10h\\xc8O[\\x12\\xcaO\\xdf\\x93\\xf3\\xe4C\\xd...</td>\n",
       "      <td>b'\\x19Ho\\xb1\\xf29k\\x81\\xeb$\\xec\\xc9~\\xf3\\x19\\x...</td>\n",
       "      <td>8</td>\n",
       "      <td>mint</td>\n",
       "      <td>None</td>\n",
       "      <td>5.120000e+02</td>\n",
       "    </tr>\n",
       "    <tr>\n",
       "      <th>692238</th>\n",
       "      <td>b\"\\xb2\\x10h\\xc8O[\\x12\\xcaO\\xdf\\x93\\xf3\\xe4C\\xd...</td>\n",
       "      <td>b'\\x19Ho\\xb1\\xf29k\\x81\\xeb$\\xec\\xc9~\\xf3\\x19\\x...</td>\n",
       "      <td>9</td>\n",
       "      <td>mint</td>\n",
       "      <td>None</td>\n",
       "      <td>1.024000e+03</td>\n",
       "    </tr>\n",
       "    <tr>\n",
       "      <th>692239</th>\n",
       "      <td>b\"\\xb2\\x10h\\xc8O[\\x12\\xcaO\\xdf\\x93\\xf3\\xe4C\\xd...</td>\n",
       "      <td>b'\\x19Ho\\xb1\\xf29k\\x81\\xeb$\\xec\\xc9~\\xf3\\x19\\x...</td>\n",
       "      <td>10</td>\n",
       "      <td>mint</td>\n",
       "      <td>None</td>\n",
       "      <td>1.024000e+03</td>\n",
       "    </tr>\n",
       "    <tr>\n",
       "      <th>692240</th>\n",
       "      <td>b\"\\xb2\\x10h\\xc8O[\\x12\\xcaO\\xdf\\x93\\xf3\\xe4C\\xd...</td>\n",
       "      <td>b'\\x19Ho\\xb1\\xf29k\\x81\\xeb$\\xec\\xc9~\\xf3\\x19\\x...</td>\n",
       "      <td>11</td>\n",
       "      <td>mint</td>\n",
       "      <td>None</td>\n",
       "      <td>1.024000e+03</td>\n",
       "    </tr>\n",
       "    <tr>\n",
       "      <th>692241</th>\n",
       "      <td>b\"\\xb2\\x10h\\xc8O[\\x12\\xcaO\\xdf\\x93\\xf3\\xe4C\\xd...</td>\n",
       "      <td>b',q\\xf1w\\xcbe\\x10\\x15\\x02\\xc1\\x95{\\xe2mq\\x89 ...</td>\n",
       "      <td>0</td>\n",
       "      <td>ln</td>\n",
       "      <td>b'\\xa7aI\\x04\\x82\\x186\\xba1EM\\xe3\\x00\\xfa`=d\\xb...</td>\n",
       "      <td>5.197000e+03</td>\n",
       "    </tr>\n",
       "  </tbody>\n",
       "</table>\n",
       "<p>692242 rows × 6 columns</p>\n",
       "</div>"
      ],
      "text/plain": [
       "                                            federation_id  \\\n",
       "0       b\"\\xb2\\x10h\\xc8O[\\x12\\xcaO\\xdf\\x93\\xf3\\xe4C\\xd...   \n",
       "1       b\"\\xb2\\x10h\\xc8O[\\x12\\xcaO\\xdf\\x93\\xf3\\xe4C\\xd...   \n",
       "2       b\"\\xb2\\x10h\\xc8O[\\x12\\xcaO\\xdf\\x93\\xf3\\xe4C\\xd...   \n",
       "3       b\"\\xb2\\x10h\\xc8O[\\x12\\xcaO\\xdf\\x93\\xf3\\xe4C\\xd...   \n",
       "4       b\"\\xb2\\x10h\\xc8O[\\x12\\xcaO\\xdf\\x93\\xf3\\xe4C\\xd...   \n",
       "...                                                   ...   \n",
       "692237  b\"\\xb2\\x10h\\xc8O[\\x12\\xcaO\\xdf\\x93\\xf3\\xe4C\\xd...   \n",
       "692238  b\"\\xb2\\x10h\\xc8O[\\x12\\xcaO\\xdf\\x93\\xf3\\xe4C\\xd...   \n",
       "692239  b\"\\xb2\\x10h\\xc8O[\\x12\\xcaO\\xdf\\x93\\xf3\\xe4C\\xd...   \n",
       "692240  b\"\\xb2\\x10h\\xc8O[\\x12\\xcaO\\xdf\\x93\\xf3\\xe4C\\xd...   \n",
       "692241  b\"\\xb2\\x10h\\xc8O[\\x12\\xcaO\\xdf\\x93\\xf3\\xe4C\\xd...   \n",
       "\n",
       "                                                     txid  in_index    kind  \\\n",
       "0       b'\\xfc\\xea9rc\\xa2>\\xe2\\x92\\xdc\\x06\\xa7\\x03;\\xe...         0  wallet   \n",
       "1       b'%4\\xe6\\xb166\\xaaE\\xb0\\x10\\xcdk\\xda6\\xf3\\xf2{...         0    mint   \n",
       "2       b'%4\\xe6\\xb166\\xaaE\\xb0\\x10\\xcdk\\xda6\\xf3\\xf2{...         1    mint   \n",
       "3       b'%4\\xe6\\xb166\\xaaE\\xb0\\x10\\xcdk\\xda6\\xf3\\xf2{...         2    mint   \n",
       "4       b'%4\\xe6\\xb166\\xaaE\\xb0\\x10\\xcdk\\xda6\\xf3\\xf2{...         3    mint   \n",
       "...                                                   ...       ...     ...   \n",
       "692237  b'\\x19Ho\\xb1\\xf29k\\x81\\xeb$\\xec\\xc9~\\xf3\\x19\\x...         8    mint   \n",
       "692238  b'\\x19Ho\\xb1\\xf29k\\x81\\xeb$\\xec\\xc9~\\xf3\\x19\\x...         9    mint   \n",
       "692239  b'\\x19Ho\\xb1\\xf29k\\x81\\xeb$\\xec\\xc9~\\xf3\\x19\\x...        10    mint   \n",
       "692240  b'\\x19Ho\\xb1\\xf29k\\x81\\xeb$\\xec\\xc9~\\xf3\\x19\\x...        11    mint   \n",
       "692241  b',q\\xf1w\\xcbe\\x10\\x15\\x02\\xc1\\x95{\\xe2mq\\x89 ...         0      ln   \n",
       "\n",
       "                                           ln_contract_id   amount_msat  \n",
       "0                                                    None  1.000000e+10  \n",
       "1                                                    None  1.280000e+02  \n",
       "2                                                    None  5.120000e+02  \n",
       "3                                                    None  1.024000e+03  \n",
       "4                                                    None  4.096000e+03  \n",
       "...                                                   ...           ...  \n",
       "692237                                               None  5.120000e+02  \n",
       "692238                                               None  1.024000e+03  \n",
       "692239                                               None  1.024000e+03  \n",
       "692240                                               None  1.024000e+03  \n",
       "692241  b'\\xa7aI\\x04\\x82\\x186\\xba1EM\\xe3\\x00\\xfa`=d\\xb...  5.197000e+03  \n",
       "\n",
       "[692242 rows x 6 columns]"
      ]
     },
     "execution_count": 7,
     "metadata": {},
     "output_type": "execute_result"
    }
   ],
   "source": [
    "df_transaction_inputs"
   ]
  },
  {
   "cell_type": "code",
   "execution_count": 8,
   "id": "6eb106ed-eabf-4a91-a60a-5d4cfcb88eef",
   "metadata": {},
   "outputs": [
    {
     "data": {
      "text/plain": [
       "array(['wallet', 'mint', 'ln', 'stability_pool'], dtype=object)"
      ]
     },
     "execution_count": 8,
     "metadata": {},
     "output_type": "execute_result"
    }
   ],
   "source": [
    "df_transaction_inputs.kind.unique()"
   ]
  },
  {
   "cell_type": "code",
   "execution_count": 9,
   "id": "2b779d2d-cdda-426e-871a-39cdfce877b7",
   "metadata": {},
   "outputs": [],
   "source": [
    "import pandas as pd\n",
    "\n",
    "def calculate_total_bitcoin_pegged_in_or_out(df, federation_id, peg_kinds):\n",
    "    \"\"\"\n",
    "    Calculate the total amount of Bitcoin pegged-in or -out for a given federation.\n",
    "\n",
    "    Parameters:\n",
    "    - df: pandas DataFrame containing the transaction data.\n",
    "    - federation_id: the federation_id to filter by (must match the BLOB format in the DataFrame).\n",
    "    - peg_kinds: list of kind identifiers that correspond to peg-in transactions.\n",
    "\n",
    "    Returns:\n",
    "    - total_btc: Total amount of Bitcoin pegged-in or out for the given federation.\n",
    "    \"\"\"\n",
    "    \n",
    "    # Filter transaction inputs for the specific federation and peg-in kinds\n",
    "    filtered_df = df[\n",
    "        (df['federation_id'] == federation_id) &\n",
    "        (df['kind'].isin(peg_kinds))\n",
    "    ]\n",
    "\n",
    "    # Calculate the total pegged-in Bitcoin in BTC\n",
    "    total_msat = filtered_df['amount_msat'].sum()\n",
    "    total_btc = total_msat / 100000000000.0  # Convert milli-satoshis to Bitcoin\n",
    "\n",
    "    return total_btc\n"
   ]
  },
  {
   "cell_type": "code",
   "execution_count": 10,
   "id": "b6ce7bbf-4a9f-4d1e-a96a-86773acd402f",
   "metadata": {},
   "outputs": [],
   "source": [
    "# Assuming that peg-in transactions are primarily associated with the wallet module of the Fedimint system\n",
    "pegged_in = calculate_total_bitcoin_pegged_in_or_out(df_transaction_inputs, unique_value, ['wallet'])"
   ]
  },
  {
   "cell_type": "code",
   "execution_count": 11,
   "id": "5a99e7a0-f5c0-4f5a-a309-61afcae66faa",
   "metadata": {},
   "outputs": [
    {
     "data": {
      "text/plain": [
       "np.float64(8.42375871)"
      ]
     },
     "execution_count": 11,
     "metadata": {},
     "output_type": "execute_result"
    }
   ],
   "source": [
    "pegged_in"
   ]
  },
  {
   "cell_type": "markdown",
   "id": "ac4a0cc7-6c5e-464c-bb01-f4e66b869870",
   "metadata": {},
   "source": [
    "## 2. How much Bitcoin was pegged-out from this federation?"
   ]
  },
  {
   "cell_type": "code",
   "execution_count": 12,
   "id": "4109db8d-5541-454d-af55-8ac2dd4ba350",
   "metadata": {},
   "outputs": [],
   "source": [
    "with SQLite(db_file) as db:\n",
    "    df_transaction_outputs= pd.read_sql_query(\"SELECT * FROM transaction_outputs\", db.conn)"
   ]
  },
  {
   "cell_type": "code",
   "execution_count": 13,
   "id": "e5f86e39-5f2e-4019-9d5c-f0eca1f6dc75",
   "metadata": {},
   "outputs": [
    {
     "data": {
      "text/html": [
       "<div>\n",
       "<style scoped>\n",
       "    .dataframe tbody tr th:only-of-type {\n",
       "        vertical-align: middle;\n",
       "    }\n",
       "\n",
       "    .dataframe tbody tr th {\n",
       "        vertical-align: top;\n",
       "    }\n",
       "\n",
       "    .dataframe thead th {\n",
       "        text-align: right;\n",
       "    }\n",
       "</style>\n",
       "<table border=\"1\" class=\"dataframe\">\n",
       "  <thead>\n",
       "    <tr style=\"text-align: right;\">\n",
       "      <th></th>\n",
       "      <th>federation_id</th>\n",
       "      <th>txid</th>\n",
       "      <th>out_index</th>\n",
       "      <th>kind</th>\n",
       "      <th>ln_contract_interaction_kind</th>\n",
       "      <th>ln_contract_id</th>\n",
       "      <th>amount_msat</th>\n",
       "    </tr>\n",
       "  </thead>\n",
       "  <tbody>\n",
       "    <tr>\n",
       "      <th>0</th>\n",
       "      <td>b\"\\xb2\\x10h\\xc8O[\\x12\\xcaO\\xdf\\x93\\xf3\\xe4C\\xd...</td>\n",
       "      <td>b'\\xfc\\xea9rc\\xa2&gt;\\xe2\\x92\\xdc\\x06\\xa7\\x03;\\xe...</td>\n",
       "      <td>0</td>\n",
       "      <td>mint</td>\n",
       "      <td>None</td>\n",
       "      <td>None</td>\n",
       "      <td>1.0</td>\n",
       "    </tr>\n",
       "    <tr>\n",
       "      <th>1</th>\n",
       "      <td>b\"\\xb2\\x10h\\xc8O[\\x12\\xcaO\\xdf\\x93\\xf3\\xe4C\\xd...</td>\n",
       "      <td>b'\\xfc\\xea9rc\\xa2&gt;\\xe2\\x92\\xdc\\x06\\xa7\\x03;\\xe...</td>\n",
       "      <td>1</td>\n",
       "      <td>mint</td>\n",
       "      <td>None</td>\n",
       "      <td>None</td>\n",
       "      <td>1.0</td>\n",
       "    </tr>\n",
       "    <tr>\n",
       "      <th>2</th>\n",
       "      <td>b\"\\xb2\\x10h\\xc8O[\\x12\\xcaO\\xdf\\x93\\xf3\\xe4C\\xd...</td>\n",
       "      <td>b'\\xfc\\xea9rc\\xa2&gt;\\xe2\\x92\\xdc\\x06\\xa7\\x03;\\xe...</td>\n",
       "      <td>2</td>\n",
       "      <td>mint</td>\n",
       "      <td>None</td>\n",
       "      <td>None</td>\n",
       "      <td>2.0</td>\n",
       "    </tr>\n",
       "    <tr>\n",
       "      <th>3</th>\n",
       "      <td>b\"\\xb2\\x10h\\xc8O[\\x12\\xcaO\\xdf\\x93\\xf3\\xe4C\\xd...</td>\n",
       "      <td>b'\\xfc\\xea9rc\\xa2&gt;\\xe2\\x92\\xdc\\x06\\xa7\\x03;\\xe...</td>\n",
       "      <td>3</td>\n",
       "      <td>mint</td>\n",
       "      <td>None</td>\n",
       "      <td>None</td>\n",
       "      <td>2.0</td>\n",
       "    </tr>\n",
       "    <tr>\n",
       "      <th>4</th>\n",
       "      <td>b\"\\xb2\\x10h\\xc8O[\\x12\\xcaO\\xdf\\x93\\xf3\\xe4C\\xd...</td>\n",
       "      <td>b'\\xfc\\xea9rc\\xa2&gt;\\xe2\\x92\\xdc\\x06\\xa7\\x03;\\xe...</td>\n",
       "      <td>4</td>\n",
       "      <td>mint</td>\n",
       "      <td>None</td>\n",
       "      <td>None</td>\n",
       "      <td>2.0</td>\n",
       "    </tr>\n",
       "    <tr>\n",
       "      <th>...</th>\n",
       "      <td>...</td>\n",
       "      <td>...</td>\n",
       "      <td>...</td>\n",
       "      <td>...</td>\n",
       "      <td>...</td>\n",
       "      <td>...</td>\n",
       "      <td>...</td>\n",
       "    </tr>\n",
       "    <tr>\n",
       "      <th>769475</th>\n",
       "      <td>b\"\\xb2\\x10h\\xc8O[\\x12\\xcaO\\xdf\\x93\\xf3\\xe4C\\xd...</td>\n",
       "      <td>b',q\\xf1w\\xcbe\\x10\\x15\\x02\\xc1\\x95{\\xe2mq\\x89 ...</td>\n",
       "      <td>4</td>\n",
       "      <td>mint</td>\n",
       "      <td>None</td>\n",
       "      <td>None</td>\n",
       "      <td>128.0</td>\n",
       "    </tr>\n",
       "    <tr>\n",
       "      <th>769476</th>\n",
       "      <td>b\"\\xb2\\x10h\\xc8O[\\x12\\xcaO\\xdf\\x93\\xf3\\xe4C\\xd...</td>\n",
       "      <td>b',q\\xf1w\\xcbe\\x10\\x15\\x02\\xc1\\x95{\\xe2mq\\x89 ...</td>\n",
       "      <td>5</td>\n",
       "      <td>mint</td>\n",
       "      <td>None</td>\n",
       "      <td>None</td>\n",
       "      <td>128.0</td>\n",
       "    </tr>\n",
       "    <tr>\n",
       "      <th>769477</th>\n",
       "      <td>b\"\\xb2\\x10h\\xc8O[\\x12\\xcaO\\xdf\\x93\\xf3\\xe4C\\xd...</td>\n",
       "      <td>b',q\\xf1w\\xcbe\\x10\\x15\\x02\\xc1\\x95{\\xe2mq\\x89 ...</td>\n",
       "      <td>6</td>\n",
       "      <td>mint</td>\n",
       "      <td>None</td>\n",
       "      <td>None</td>\n",
       "      <td>256.0</td>\n",
       "    </tr>\n",
       "    <tr>\n",
       "      <th>769478</th>\n",
       "      <td>b\"\\xb2\\x10h\\xc8O[\\x12\\xcaO\\xdf\\x93\\xf3\\xe4C\\xd...</td>\n",
       "      <td>b',q\\xf1w\\xcbe\\x10\\x15\\x02\\xc1\\x95{\\xe2mq\\x89 ...</td>\n",
       "      <td>7</td>\n",
       "      <td>mint</td>\n",
       "      <td>None</td>\n",
       "      <td>None</td>\n",
       "      <td>512.0</td>\n",
       "    </tr>\n",
       "    <tr>\n",
       "      <th>769479</th>\n",
       "      <td>b\"\\xb2\\x10h\\xc8O[\\x12\\xcaO\\xdf\\x93\\xf3\\xe4C\\xd...</td>\n",
       "      <td>b',q\\xf1w\\xcbe\\x10\\x15\\x02\\xc1\\x95{\\xe2mq\\x89 ...</td>\n",
       "      <td>8</td>\n",
       "      <td>mint</td>\n",
       "      <td>None</td>\n",
       "      <td>None</td>\n",
       "      <td>4096.0</td>\n",
       "    </tr>\n",
       "  </tbody>\n",
       "</table>\n",
       "<p>769480 rows × 7 columns</p>\n",
       "</div>"
      ],
      "text/plain": [
       "                                            federation_id  \\\n",
       "0       b\"\\xb2\\x10h\\xc8O[\\x12\\xcaO\\xdf\\x93\\xf3\\xe4C\\xd...   \n",
       "1       b\"\\xb2\\x10h\\xc8O[\\x12\\xcaO\\xdf\\x93\\xf3\\xe4C\\xd...   \n",
       "2       b\"\\xb2\\x10h\\xc8O[\\x12\\xcaO\\xdf\\x93\\xf3\\xe4C\\xd...   \n",
       "3       b\"\\xb2\\x10h\\xc8O[\\x12\\xcaO\\xdf\\x93\\xf3\\xe4C\\xd...   \n",
       "4       b\"\\xb2\\x10h\\xc8O[\\x12\\xcaO\\xdf\\x93\\xf3\\xe4C\\xd...   \n",
       "...                                                   ...   \n",
       "769475  b\"\\xb2\\x10h\\xc8O[\\x12\\xcaO\\xdf\\x93\\xf3\\xe4C\\xd...   \n",
       "769476  b\"\\xb2\\x10h\\xc8O[\\x12\\xcaO\\xdf\\x93\\xf3\\xe4C\\xd...   \n",
       "769477  b\"\\xb2\\x10h\\xc8O[\\x12\\xcaO\\xdf\\x93\\xf3\\xe4C\\xd...   \n",
       "769478  b\"\\xb2\\x10h\\xc8O[\\x12\\xcaO\\xdf\\x93\\xf3\\xe4C\\xd...   \n",
       "769479  b\"\\xb2\\x10h\\xc8O[\\x12\\xcaO\\xdf\\x93\\xf3\\xe4C\\xd...   \n",
       "\n",
       "                                                     txid  out_index  kind  \\\n",
       "0       b'\\xfc\\xea9rc\\xa2>\\xe2\\x92\\xdc\\x06\\xa7\\x03;\\xe...          0  mint   \n",
       "1       b'\\xfc\\xea9rc\\xa2>\\xe2\\x92\\xdc\\x06\\xa7\\x03;\\xe...          1  mint   \n",
       "2       b'\\xfc\\xea9rc\\xa2>\\xe2\\x92\\xdc\\x06\\xa7\\x03;\\xe...          2  mint   \n",
       "3       b'\\xfc\\xea9rc\\xa2>\\xe2\\x92\\xdc\\x06\\xa7\\x03;\\xe...          3  mint   \n",
       "4       b'\\xfc\\xea9rc\\xa2>\\xe2\\x92\\xdc\\x06\\xa7\\x03;\\xe...          4  mint   \n",
       "...                                                   ...        ...   ...   \n",
       "769475  b',q\\xf1w\\xcbe\\x10\\x15\\x02\\xc1\\x95{\\xe2mq\\x89 ...          4  mint   \n",
       "769476  b',q\\xf1w\\xcbe\\x10\\x15\\x02\\xc1\\x95{\\xe2mq\\x89 ...          5  mint   \n",
       "769477  b',q\\xf1w\\xcbe\\x10\\x15\\x02\\xc1\\x95{\\xe2mq\\x89 ...          6  mint   \n",
       "769478  b',q\\xf1w\\xcbe\\x10\\x15\\x02\\xc1\\x95{\\xe2mq\\x89 ...          7  mint   \n",
       "769479  b',q\\xf1w\\xcbe\\x10\\x15\\x02\\xc1\\x95{\\xe2mq\\x89 ...          8  mint   \n",
       "\n",
       "       ln_contract_interaction_kind ln_contract_id  amount_msat  \n",
       "0                              None           None          1.0  \n",
       "1                              None           None          1.0  \n",
       "2                              None           None          2.0  \n",
       "3                              None           None          2.0  \n",
       "4                              None           None          2.0  \n",
       "...                             ...            ...          ...  \n",
       "769475                         None           None        128.0  \n",
       "769476                         None           None        128.0  \n",
       "769477                         None           None        256.0  \n",
       "769478                         None           None        512.0  \n",
       "769479                         None           None       4096.0  \n",
       "\n",
       "[769480 rows x 7 columns]"
      ]
     },
     "execution_count": 13,
     "metadata": {},
     "output_type": "execute_result"
    }
   ],
   "source": [
    "df_transaction_outputs"
   ]
  },
  {
   "cell_type": "code",
   "execution_count": 14,
   "id": "4687d8b6-5e5f-416b-8105-e618a3a4afea",
   "metadata": {},
   "outputs": [
    {
     "data": {
      "text/plain": [
       "array(['mint', 'ln', 'stability_pool', 'wallet'], dtype=object)"
      ]
     },
     "execution_count": 14,
     "metadata": {},
     "output_type": "execute_result"
    }
   ],
   "source": [
    "df_transaction_outputs.kind.unique()"
   ]
  },
  {
   "cell_type": "code",
   "execution_count": 15,
   "id": "de37ce49-5c14-42a9-8728-1c55b514e86b",
   "metadata": {},
   "outputs": [],
   "source": [
    "# Assuming that peg-out transactions are primarily associated with within the wallet module of the Fedimint system\n",
    "pegged_out = calculate_total_bitcoin_pegged_in_or_out(df_transaction_outputs, unique_value, ['wallet'])"
   ]
  },
  {
   "cell_type": "code",
   "execution_count": 16,
   "id": "86f56395-b76d-448e-ba58-69287e63011f",
   "metadata": {},
   "outputs": [
    {
     "data": {
      "text/plain": [
       "np.float64(7.81928988)"
      ]
     },
     "execution_count": 16,
     "metadata": {},
     "output_type": "execute_result"
    }
   ],
   "source": [
    "pegged_out"
   ]
  },
  {
   "cell_type": "markdown",
   "id": "c78c2b41-7a97-4cdc-85aa-721f12116f8a",
   "metadata": {},
   "source": [
    "## 3. What is the current on-chain balance of this federation?"
   ]
  },
  {
   "cell_type": "code",
   "execution_count": 17,
   "id": "cbe0b318-014e-44c7-8574-5a02daea298a",
   "metadata": {},
   "outputs": [
    {
     "data": {
      "text/plain": [
       "np.float64(0.6044688299999992)"
      ]
     },
     "execution_count": 17,
     "metadata": {},
     "output_type": "execute_result"
    }
   ],
   "source": [
    "pegged_in - pegged_out"
   ]
  }
 ],
 "metadata": {
  "kernelspec": {
   "display_name": "env",
   "language": "python",
   "name": "env"
  },
  "language_info": {
   "codemirror_mode": {
    "name": "ipython",
    "version": 3
   },
   "file_extension": ".py",
   "mimetype": "text/x-python",
   "name": "python",
   "nbconvert_exporter": "python",
   "pygments_lexer": "ipython3",
   "version": "3.12.4"
  }
 },
 "nbformat": 4,
 "nbformat_minor": 5
}
